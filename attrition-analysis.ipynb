{
 "cells": [
  {
   "cell_type": "markdown",
   "metadata": {},
   "source": [
    "# Load and Combine Data"
   ]
  },
  {
   "cell_type": "code",
   "execution_count": 1,
   "metadata": {
    "execution": {
     "iopub.execute_input": "2025-04-09T16:17:31.110528Z",
     "iopub.status.busy": "2025-04-09T16:17:31.110144Z",
     "iopub.status.idle": "2025-04-09T16:17:31.711235Z",
     "shell.execute_reply": "2025-04-09T16:17:31.710212Z",
     "shell.execute_reply.started": "2025-04-09T16:17:31.110497Z"
    },
    "trusted": true
   },
   "outputs": [],
   "source": [
    "import pandas as pd\n",
    "import numpy as np\n",
    "from scipy.stats import chi2_contingency\n",
    "from scipy.stats import pointbiserialr\n",
    "from sklearn.preprocessing import LabelEncoder\n",
    "from sklearn.model_selection import train_test_split\n",
    "from sklearn.ensemble import RandomForestClassifier\n",
    "from sklearn.metrics import confusion_matrix, classification_report\n",
    "\n",
    "# Load four data sources\n",
    "df = pd.read_csv(\"HR Analytics Case Study/general_data.csv\")\n",
    "employee_survey = pd.read_csv(\"HR Analytics Case Study/employee_survey_data.csv\")\n",
    "manager_survey = pd.read_csv(\"HR Analytics Case Study/manager_survey_data.csv\")\n",
    "worktime = pd.read_csv(\"HR Analytics Case Study/work_time.csv\")\n",
    "\n",
    "# Set primary key and map Attrition values to binary\n",
    "primary_col = \"EmployeeID\"\n",
    "target_col = \"Attrition\"\n",
    "df[target_col] = df[target_col].map({'Yes': 1, 'No': 0})\n",
    "\n",
    "# Set index for merging\n",
    "df.set_index(primary_col, inplace=True)\n",
    "worktime.set_index(primary_col, inplace=True)\n",
    "employee_survey.set_index(primary_col, inplace=True)\n",
    "manager_survey.set_index(primary_col, inplace=True)\n",
    "\n",
    "# Combine all dataframes\n",
    "merged_df = df.join([worktime, employee_survey, manager_survey], how=\"outer\").reset_index()"
   ]
  },
  {
   "cell_type": "code",
   "execution_count": 2,
   "metadata": {},
   "outputs": [
    {
     "name": "stdout",
     "output_type": "stream",
     "text": [
      "   EmployeeID  Age  Attrition     BusinessTravel              Department  \\\n",
      "0           1   51          0      Travel_Rarely                   Sales   \n",
      "1           2   31          1  Travel_Frequently  Research & Development   \n",
      "2           3   32          0  Travel_Frequently  Research & Development   \n",
      "3           4   38          0         Non-Travel  Research & Development   \n",
      "4           5   32          0      Travel_Rarely  Research & Development   \n",
      "\n",
      "   DistanceFromHome  Education EducationField  EmployeeCount  Gender  ...  \\\n",
      "0                 6          2  Life Sciences              1  Female  ...   \n",
      "1                10          1  Life Sciences              1  Female  ...   \n",
      "2                17          4          Other              1    Male  ...   \n",
      "3                 2          5  Life Sciences              1    Male  ...   \n",
      "4                10          1        Medical              1    Male  ...   \n",
      "\n",
      "   TrainingTimesLastYear YearsAtCompany YearsSinceLastPromotion  \\\n",
      "0                      6              1                       0   \n",
      "1                      3              5                       1   \n",
      "2                      2              5                       0   \n",
      "3                      5              8                       7   \n",
      "4                      2              6                       0   \n",
      "\n",
      "   YearsWithCurrManager  Avg_Work_Hours EnvironmentSatisfaction  \\\n",
      "0                     0        7.374138                     3.0   \n",
      "1                     4        7.717726                     3.0   \n",
      "2                     3        7.013499                     2.0   \n",
      "3                     5        7.193475                     4.0   \n",
      "4                     4        8.006259                     4.0   \n",
      "\n",
      "   JobSatisfaction  WorkLifeBalance  JobInvolvement  PerformanceRating  \n",
      "0              4.0              2.0               3                  3  \n",
      "1              2.0              4.0               2                  4  \n",
      "2              2.0              1.0               3                  3  \n",
      "3              4.0              3.0               2                  3  \n",
      "4              1.0              3.0               3                  3  \n",
      "\n",
      "[5 rows x 30 columns]\n"
     ]
    }
   ],
   "source": [
    "print(merged_df.head())"
   ]
  },
  {
   "cell_type": "markdown",
   "metadata": {},
   "source": [
    "# Handle Missing Values"
   ]
  },
  {
   "cell_type": "code",
   "execution_count": 3,
   "metadata": {},
   "outputs": [
    {
     "data": {
      "text/plain": [
       "WorkLifeBalance            38\n",
       "EnvironmentSatisfaction    25\n",
       "JobSatisfaction            20\n",
       "NumCompaniesWorked         19\n",
       "TotalWorkingYears           9\n",
       "dtype: int64"
      ]
     },
     "execution_count": 3,
     "metadata": {},
     "output_type": "execute_result"
    }
   ],
   "source": [
    "# Check for missing values\n",
    "missing_values = merged_df.isnull().sum()\n",
    "missing_values[missing_values > 0].sort_values(ascending=False)"
   ]
  },
  {
   "cell_type": "code",
   "execution_count": 4,
   "metadata": {},
   "outputs": [
    {
     "name": "stdout",
     "output_type": "stream",
     "text": [
      "EmployeeID                   int64\n",
      "Age                          int64\n",
      "Attrition                    int64\n",
      "BusinessTravel              object\n",
      "Department                  object\n",
      "DistanceFromHome             int64\n",
      "Education                    int64\n",
      "EducationField              object\n",
      "EmployeeCount                int64\n",
      "Gender                      object\n",
      "JobLevel                     int64\n",
      "JobRole                     object\n",
      "MaritalStatus               object\n",
      "MonthlyIncome                int64\n",
      "NumCompaniesWorked         float64\n",
      "Over18                      object\n",
      "PercentSalaryHike            int64\n",
      "StandardHours                int64\n",
      "StockOptionLevel             int64\n",
      "TotalWorkingYears          float64\n",
      "TrainingTimesLastYear        int64\n",
      "YearsAtCompany               int64\n",
      "YearsSinceLastPromotion      int64\n",
      "YearsWithCurrManager         int64\n",
      "Avg_Work_Hours             float64\n",
      "EnvironmentSatisfaction    float64\n",
      "JobSatisfaction            float64\n",
      "WorkLifeBalance            float64\n",
      "JobInvolvement               int64\n",
      "PerformanceRating            int64\n",
      "dtype: object\n"
     ]
    }
   ],
   "source": [
    "# print type of columns\n",
    "print(merged_df.dtypes)"
   ]
  },
  {
   "cell_type": "code",
   "execution_count": 5,
   "metadata": {},
   "outputs": [],
   "source": [
    "# Fill missing values by type\n",
    "numerical_cols =merged_df.select_dtypes(include=['number']).columns.tolist()\n",
    "categorical_cols = merged_df.select_dtypes(include=['object', 'category']).columns.tolist()\n",
    "for column in categorical_cols:\n",
    "    merged_df[column] = merged_df[column].fillna(merged_df[column].mode()[0])\n",
    "for column in numerical_cols:\n",
    "    merged_df[column] = merged_df[column].fillna(merged_df[column].mean())"
   ]
  },
  {
   "cell_type": "markdown",
   "metadata": {},
   "source": [
    "# Statistical Correlation Analysis (Chi2 & Point-Biserial)"
   ]
  },
  {
   "cell_type": "code",
   "execution_count": 6,
   "metadata": {},
   "outputs": [],
   "source": [
    "# Define a function to assess correlation significance for numeric & categorical columns\n",
    "def correlation_significance_analysis(df, key_column):\n",
    "    results = []\n",
    "\n",
    "    \n",
    "    numeric_cols = df.select_dtypes(include=['number']).columns.tolist()\n",
    "    categorical_cols = df.select_dtypes(include=['object', 'category']).columns.tolist()\n",
    "\n",
    "    # Remove key column from analysis\n",
    "    numeric_cols = [col for col in numeric_cols if col != key_column]\n",
    "    categorical_cols = [col for col in categorical_cols if col != key_column]\n",
    "\n",
    "    # Pointbiserial\n",
    "    from scipy.stats import pointbiserialr\n",
    "    for col in numeric_cols:\n",
    "        corr, p_value = pointbiserialr(df[col], df[key_column])\n",
    "        results.append({\n",
    "            'Feature': col,\n",
    "            'Type': 'Numeric',\n",
    "            'Score': corr,\n",
    "            'P-value': p_value,\n",
    "            'Is Significant': p_value < 0.05\n",
    "        })\n",
    "\n",
    "    # chi2_contingency\n",
    "    from scipy.stats import chi2_contingency\n",
    "    for col in categorical_cols:\n",
    "        contingency = pd.crosstab(df[col], df[key_column])\n",
    "        chi2, p, dof, expected = chi2_contingency(contingency)\n",
    "        results.append({\n",
    "            'Feature': col,\n",
    "            'Type': 'Categorical',\n",
    "            'Score': chi2,\n",
    "            'P-value': p,\n",
    "            'Is Significant': p < 0.05\n",
    "        })\n",
    "\n",
    "    return pd.DataFrame(results).sort_values(\"P-value\")\n"
   ]
  },
  {
   "cell_type": "code",
   "execution_count": 7,
   "metadata": {},
   "outputs": [
    {
     "name": "stderr",
     "output_type": "stream",
     "text": [
      "c:\\Users\\NCPC\\AppData\\Local\\Programs\\Python\\Python38\\lib\\site-packages\\scipy\\stats\\_stats_py.py:4427: ConstantInputWarning: An input array is constant; the correlation coefficient is not defined.\n",
      "  warnings.warn(stats.ConstantInputWarning(msg))\n"
     ]
    },
    {
     "name": "stdout",
     "output_type": "stream",
     "text": [
      "                    Feature         Type       Score       P-value  \\\n",
      "16           Avg_Work_Hours      Numeric    0.201683  1.057946e-41   \n",
      "27            MaritalStatus  Categorical  138.491030  8.453859e-31   \n",
      "11        TotalWorkingYears      Numeric   -0.170111  5.473148e-30   \n",
      "1                       Age      Numeric   -0.159205  1.996802e-26   \n",
      "15     YearsWithCurrManager      Numeric   -0.156199  1.733932e-25   \n",
      "13           YearsAtCompany      Numeric   -0.134392  3.163883e-19   \n",
      "22           BusinessTravel  Categorical   72.547241  1.764277e-16   \n",
      "18          JobSatisfaction      Numeric   -0.102743  7.967829e-12   \n",
      "17  EnvironmentSatisfaction      Numeric   -0.101795  1.238112e-11   \n",
      "24           EducationField  Categorical   46.194921  8.288917e-09   \n",
      "23               Department  Categorical   29.090275  4.820888e-07   \n",
      "19          WorkLifeBalance      Numeric   -0.062561  3.218590e-05   \n",
      "12    TrainingTimesLastYear      Numeric   -0.049431  1.024706e-03   \n",
      "26                  JobRole  Categorical   25.116314  1.485545e-03   \n",
      "7        NumCompaniesWorked      Numeric    0.042232  5.032276e-03   \n",
      "14  YearsSinceLastPromotion      Numeric   -0.033019  2.833034e-02   \n",
      "8         PercentSalaryHike      Numeric    0.032533  3.074339e-02   \n",
      "6             MonthlyIncome      Numeric   -0.031176  3.842748e-02   \n",
      "21        PerformanceRating      Numeric    0.023403  1.202036e-01   \n",
      "25                   Gender  Categorical    1.349904  2.452948e-01   \n",
      "20           JobInvolvement      Numeric   -0.015588  3.007024e-01   \n",
      "3                 Education      Numeric   -0.015111  3.157293e-01   \n",
      "5                  JobLevel      Numeric   -0.010290  4.945172e-01   \n",
      "2          DistanceFromHome      Numeric   -0.009730  5.182860e-01   \n",
      "10         StockOptionLevel      Numeric   -0.006839  6.498073e-01   \n",
      "0                EmployeeID      Numeric   -0.004729  7.535487e-01   \n",
      "28                   Over18  Categorical    0.000000  1.000000e+00   \n",
      "4             EmployeeCount      Numeric         NaN           NaN   \n",
      "9             StandardHours      Numeric         NaN           NaN   \n",
      "\n",
      "    Is Significant  \n",
      "16            True  \n",
      "27            True  \n",
      "11            True  \n",
      "1             True  \n",
      "15            True  \n",
      "13            True  \n",
      "22            True  \n",
      "18            True  \n",
      "17            True  \n",
      "24            True  \n",
      "23            True  \n",
      "19            True  \n",
      "12            True  \n",
      "26            True  \n",
      "7             True  \n",
      "14            True  \n",
      "8             True  \n",
      "6             True  \n",
      "21           False  \n",
      "25           False  \n",
      "20           False  \n",
      "3            False  \n",
      "5            False  \n",
      "2            False  \n",
      "10           False  \n",
      "0            False  \n",
      "28           False  \n",
      "4            False  \n",
      "9            False  \n"
     ]
    }
   ],
   "source": [
    "# Perform correlation significance analysis\n",
    "correlation_significance_results = correlation_significance_analysis(merged_df,key_column='Attrition')\n",
    "print(correlation_significance_results)"
   ]
  },
  {
   "cell_type": "markdown",
   "metadata": {},
   "source": [
    "# Select Statistically Significant Features and Encode Categorical Variables"
   ]
  },
  {
   "cell_type": "code",
   "execution_count": 8,
   "metadata": {},
   "outputs": [],
   "source": [
    "# Select Statistically Significant Features\n",
    "significant_features = correlation_significance_results[correlation_significance_results['Is Significant'] == True]\n",
    "\n",
    "# Columns classification\n",
    "numerical_cols = significant_features[significant_features['Type'] == 'Numeric']['Feature'].tolist()\n",
    "categorical_cols = significant_features[significant_features['Type'] == 'Categorical']['Feature'].tolist()\n",
    "\n",
    "# Encode categorical feature using Label Encoding\n",
    "label_encoders = {}\n",
    "for col in categorical_cols:\n",
    "    le = LabelEncoder()\n",
    "    merged_df[col] = le.fit_transform(merged_df[col])\n",
    "    label_encoders[col] = le\n",
    "merged_df = merged_df[[primary_col, target_col] + numerical_cols + categorical_cols]"
   ]
  },
  {
   "cell_type": "code",
   "execution_count": 9,
   "metadata": {},
   "outputs": [
    {
     "data": {
      "text/plain": [
       "EmployeeID                   int64\n",
       "Attrition                    int64\n",
       "Avg_Work_Hours             float64\n",
       "TotalWorkingYears          float64\n",
       "Age                          int64\n",
       "YearsWithCurrManager         int64\n",
       "YearsAtCompany               int64\n",
       "JobSatisfaction            float64\n",
       "EnvironmentSatisfaction    float64\n",
       "WorkLifeBalance            float64\n",
       "TrainingTimesLastYear        int64\n",
       "NumCompaniesWorked         float64\n",
       "YearsSinceLastPromotion      int64\n",
       "PercentSalaryHike            int64\n",
       "MonthlyIncome                int64\n",
       "MaritalStatus                int32\n",
       "BusinessTravel               int32\n",
       "EducationField               int32\n",
       "Department                   int32\n",
       "JobRole                      int32\n",
       "dtype: object"
      ]
     },
     "execution_count": 9,
     "metadata": {},
     "output_type": "execute_result"
    }
   ],
   "source": [
    "merged_df.dtypes"
   ]
  },
  {
   "cell_type": "code",
   "execution_count": 10,
   "metadata": {
    "execution": {
     "iopub.execute_input": "2025-04-09T16:17:33.464513Z",
     "iopub.status.busy": "2025-04-09T16:17:33.464135Z",
     "iopub.status.idle": "2025-04-09T16:17:33.472233Z",
     "shell.execute_reply": "2025-04-09T16:17:33.470725Z",
     "shell.execute_reply.started": "2025-04-09T16:17:33.464442Z"
    },
    "trusted": true
   },
   "outputs": [
    {
     "data": {
      "text/plain": [
       "Index(['EmployeeID', 'Attrition', 'Avg_Work_Hours', 'TotalWorkingYears', 'Age',\n",
       "       'YearsWithCurrManager', 'YearsAtCompany', 'JobSatisfaction',\n",
       "       'EnvironmentSatisfaction', 'WorkLifeBalance', 'TrainingTimesLastYear',\n",
       "       'NumCompaniesWorked', 'YearsSinceLastPromotion', 'PercentSalaryHike',\n",
       "       'MonthlyIncome', 'MaritalStatus', 'BusinessTravel', 'EducationField',\n",
       "       'Department', 'JobRole'],\n",
       "      dtype='object')"
      ]
     },
     "execution_count": 10,
     "metadata": {},
     "output_type": "execute_result"
    }
   ],
   "source": [
    "merged_df.columns"
   ]
  },
  {
   "cell_type": "code",
   "execution_count": 11,
   "metadata": {},
   "outputs": [
    {
     "data": {
      "text/plain": [
       "Series([], dtype: int64)"
      ]
     },
     "execution_count": 11,
     "metadata": {},
     "output_type": "execute_result"
    }
   ],
   "source": [
    "# Check for missing values\n",
    "missing_values = merged_df.isnull().sum()\n",
    "missing_values[missing_values > 0].sort_values(ascending=False)\n"
   ]
  },
  {
   "cell_type": "markdown",
   "metadata": {},
   "source": [
    "# Split Data: 80% train, 20% test"
   ]
  },
  {
   "cell_type": "code",
   "execution_count": 12,
   "metadata": {
    "execution": {
     "iopub.execute_input": "2025-04-09T16:17:35.946317Z",
     "iopub.status.busy": "2025-04-09T16:17:35.945985Z",
     "iopub.status.idle": "2025-04-09T16:17:35.955969Z",
     "shell.execute_reply": "2025-04-09T16:17:35.954774Z",
     "shell.execute_reply.started": "2025-04-09T16:17:35.946282Z"
    },
    "trusted": true
   },
   "outputs": [],
   "source": [
    "# Define features (X) and target (y)\n",
    "X = merged_df.drop(columns=[target_col, primary_col])  # Feature columns\n",
    "X = pd.get_dummies(X, drop_first=False)\n",
    "y = merged_df[target_col]  # Target column\n",
    "\n",
    "# Split into training and testing sets\n",
    "X_train, X_test, y_train, y_test = train_test_split(X, y, test_size=0.2, random_state=42)"
   ]
  },
  {
   "cell_type": "markdown",
   "metadata": {},
   "source": [
    "# Train RandomForestClassifier Model"
   ]
  },
  {
   "cell_type": "code",
   "execution_count": 13,
   "metadata": {
    "execution": {
     "iopub.execute_input": "2025-04-09T16:17:37.067631Z",
     "iopub.status.busy": "2025-04-09T16:17:37.067223Z",
     "iopub.status.idle": "2025-04-09T16:17:37.652134Z",
     "shell.execute_reply": "2025-04-09T16:17:37.650735Z",
     "shell.execute_reply.started": "2025-04-09T16:17:37.067600Z"
    },
    "trusted": true
   },
   "outputs": [
    {
     "data": {
      "text/html": [
       "<style>#sk-container-id-1 {color: black;}#sk-container-id-1 pre{padding: 0;}#sk-container-id-1 div.sk-toggleable {background-color: white;}#sk-container-id-1 label.sk-toggleable__label {cursor: pointer;display: block;width: 100%;margin-bottom: 0;padding: 0.3em;box-sizing: border-box;text-align: center;}#sk-container-id-1 label.sk-toggleable__label-arrow:before {content: \"▸\";float: left;margin-right: 0.25em;color: #696969;}#sk-container-id-1 label.sk-toggleable__label-arrow:hover:before {color: black;}#sk-container-id-1 div.sk-estimator:hover label.sk-toggleable__label-arrow:before {color: black;}#sk-container-id-1 div.sk-toggleable__content {max-height: 0;max-width: 0;overflow: hidden;text-align: left;background-color: #f0f8ff;}#sk-container-id-1 div.sk-toggleable__content pre {margin: 0.2em;color: black;border-radius: 0.25em;background-color: #f0f8ff;}#sk-container-id-1 input.sk-toggleable__control:checked~div.sk-toggleable__content {max-height: 200px;max-width: 100%;overflow: auto;}#sk-container-id-1 input.sk-toggleable__control:checked~label.sk-toggleable__label-arrow:before {content: \"▾\";}#sk-container-id-1 div.sk-estimator input.sk-toggleable__control:checked~label.sk-toggleable__label {background-color: #d4ebff;}#sk-container-id-1 div.sk-label input.sk-toggleable__control:checked~label.sk-toggleable__label {background-color: #d4ebff;}#sk-container-id-1 input.sk-hidden--visually {border: 0;clip: rect(1px 1px 1px 1px);clip: rect(1px, 1px, 1px, 1px);height: 1px;margin: -1px;overflow: hidden;padding: 0;position: absolute;width: 1px;}#sk-container-id-1 div.sk-estimator {font-family: monospace;background-color: #f0f8ff;border: 1px dotted black;border-radius: 0.25em;box-sizing: border-box;margin-bottom: 0.5em;}#sk-container-id-1 div.sk-estimator:hover {background-color: #d4ebff;}#sk-container-id-1 div.sk-parallel-item::after {content: \"\";width: 100%;border-bottom: 1px solid gray;flex-grow: 1;}#sk-container-id-1 div.sk-label:hover label.sk-toggleable__label {background-color: #d4ebff;}#sk-container-id-1 div.sk-serial::before {content: \"\";position: absolute;border-left: 1px solid gray;box-sizing: border-box;top: 0;bottom: 0;left: 50%;z-index: 0;}#sk-container-id-1 div.sk-serial {display: flex;flex-direction: column;align-items: center;background-color: white;padding-right: 0.2em;padding-left: 0.2em;position: relative;}#sk-container-id-1 div.sk-item {position: relative;z-index: 1;}#sk-container-id-1 div.sk-parallel {display: flex;align-items: stretch;justify-content: center;background-color: white;position: relative;}#sk-container-id-1 div.sk-item::before, #sk-container-id-1 div.sk-parallel-item::before {content: \"\";position: absolute;border-left: 1px solid gray;box-sizing: border-box;top: 0;bottom: 0;left: 50%;z-index: -1;}#sk-container-id-1 div.sk-parallel-item {display: flex;flex-direction: column;z-index: 1;position: relative;background-color: white;}#sk-container-id-1 div.sk-parallel-item:first-child::after {align-self: flex-end;width: 50%;}#sk-container-id-1 div.sk-parallel-item:last-child::after {align-self: flex-start;width: 50%;}#sk-container-id-1 div.sk-parallel-item:only-child::after {width: 0;}#sk-container-id-1 div.sk-dashed-wrapped {border: 1px dashed gray;margin: 0 0.4em 0.5em 0.4em;box-sizing: border-box;padding-bottom: 0.4em;background-color: white;}#sk-container-id-1 div.sk-label label {font-family: monospace;font-weight: bold;display: inline-block;line-height: 1.2em;}#sk-container-id-1 div.sk-label-container {text-align: center;}#sk-container-id-1 div.sk-container {/* jupyter's `normalize.less` sets `[hidden] { display: none; }` but bootstrap.min.css set `[hidden] { display: none !important; }` so we also need the `!important` here to be able to override the default hidden behavior on the sphinx rendered scikit-learn.org. See: https://github.com/scikit-learn/scikit-learn/issues/21755 */display: inline-block !important;position: relative;}#sk-container-id-1 div.sk-text-repr-fallback {display: none;}</style><div id=\"sk-container-id-1\" class=\"sk-top-container\"><div class=\"sk-text-repr-fallback\"><pre>RandomForestClassifier(random_state=42)</pre><b>In a Jupyter environment, please rerun this cell to show the HTML representation or trust the notebook. <br />On GitHub, the HTML representation is unable to render, please try loading this page with nbviewer.org.</b></div><div class=\"sk-container\" hidden><div class=\"sk-item\"><div class=\"sk-estimator sk-toggleable\"><input class=\"sk-toggleable__control sk-hidden--visually\" id=\"sk-estimator-id-1\" type=\"checkbox\" checked><label for=\"sk-estimator-id-1\" class=\"sk-toggleable__label sk-toggleable__label-arrow\">RandomForestClassifier</label><div class=\"sk-toggleable__content\"><pre>RandomForestClassifier(random_state=42)</pre></div></div></div></div></div>"
      ],
      "text/plain": [
       "RandomForestClassifier(random_state=42)"
      ]
     },
     "execution_count": 13,
     "metadata": {},
     "output_type": "execute_result"
    }
   ],
   "source": [
    "# Train a Random Forest model\n",
    "model = RandomForestClassifier(random_state=42)\n",
    "model.fit(X_train, y_train)"
   ]
  },
  {
   "cell_type": "markdown",
   "metadata": {},
   "source": [
    "# Predict labels on the test set and Print classification report"
   ]
  },
  {
   "cell_type": "code",
   "execution_count": 14,
   "metadata": {
    "execution": {
     "iopub.execute_input": "2025-04-09T16:17:40.477627Z",
     "iopub.status.busy": "2025-04-09T16:17:40.477274Z",
     "iopub.status.idle": "2025-04-09T16:17:40.514461Z",
     "shell.execute_reply": "2025-04-09T16:17:40.513504Z",
     "shell.execute_reply.started": "2025-04-09T16:17:40.477599Z"
    },
    "trusted": true
   },
   "outputs": [
    {
     "name": "stdout",
     "output_type": "stream",
     "text": [
      "                precision    recall  f1-score   support\n",
      "\n",
      " Attrition: No       0.99      1.00      1.00       741\n",
      "Attrition: Yes       1.00      0.96      0.98       141\n",
      "\n",
      "      accuracy                           0.99       882\n",
      "     macro avg       1.00      0.98      0.99       882\n",
      "  weighted avg       0.99      0.99      0.99       882\n",
      "\n"
     ]
    }
   ],
   "source": [
    "# Predict labels on the test set\n",
    "y_pred = model.predict(X_test)\n",
    "cf = confusion_matrix(y_test, y_pred)\n",
    "\n",
    "# Print classification report (precision, recall, f1-score, support)\n",
    "result = classification_report(y_test, y_pred, target_names=[\"Attrition: No\", \"Attrition: Yes\"])\n",
    "print(result)"
   ]
  },
  {
   "cell_type": "markdown",
   "metadata": {},
   "source": [
    "# Predict Attrition Risk for Active Employees"
   ]
  },
  {
   "cell_type": "code",
   "execution_count": 15,
   "metadata": {
    "execution": {
     "iopub.execute_input": "2025-04-09T16:17:43.175701Z",
     "iopub.status.busy": "2025-04-09T16:17:43.175286Z",
     "iopub.status.idle": "2025-04-09T16:17:43.240470Z",
     "shell.execute_reply": "2025-04-09T16:17:43.239419Z",
     "shell.execute_reply.started": "2025-04-09T16:17:43.175669Z"
    },
    "trusted": true
   },
   "outputs": [
    {
     "name": "stdout",
     "output_type": "stream",
     "text": [
      "      EmployeeID  Attrition_Probability\n",
      "415          416                   0.35\n",
      "1885        1886                   0.35\n",
      "3355        3356                   0.35\n",
      "426          427                   0.34\n",
      "877          878                   0.33\n"
     ]
    }
   ],
   "source": [
    "# Filter employees who have not left the company\n",
    "no_attrition = merged_df[merged_df[target_col] == 0].copy()\n",
    "\n",
    "# Drop target and primary ID column for prediction\n",
    "current_data = no_attrition.drop(columns=[target_col, primary_col])\n",
    "\n",
    "# Predict probability of attrition (class = 1) for each active employee\n",
    "no_attrition['Attrition_Probability'] = model.predict_proba(current_data)[:, 1]\n",
    "\n",
    "# Display top 5 employees with the highest attrition risk\n",
    "print(no_attrition.nlargest(5, 'Attrition_Probability')[['EmployeeID', 'Attrition_Probability']])"
   ]
  },
  {
   "cell_type": "markdown",
   "metadata": {},
   "source": [
    "# Export Prediction Results to CSV"
   ]
  },
  {
   "cell_type": "code",
   "execution_count": 16,
   "metadata": {},
   "outputs": [
    {
     "name": "stdout",
     "output_type": "stream",
     "text": [
      "Exported to 'predicted_attrition_risk.csv' successfully!\n"
     ]
    }
   ],
   "source": [
    "# Keep only essential columns: EmployeeID and predicted attrition probability\n",
    "export_df = no_attrition[[primary_col, 'Attrition_Probability']].copy()\n",
    "\n",
    "# Export to CSV for Power BI dashboard visualization\n",
    "export_df.to_csv('predicted_attrition_risk.csv', index=False)\n",
    "print(\"Exported to 'predicted_attrition_risk.csv' successfully!\")"
   ]
  }
 ],
 "metadata": {
  "kaggle": {
   "accelerator": "none",
   "dataSources": [
    {
     "datasetId": 42363,
     "sourceId": 72602,
     "sourceType": "datasetVersion"
    },
    {
     "datasetId": 7020876,
     "sourceId": 11239180,
     "sourceType": "datasetVersion"
    }
   ],
   "dockerImageVersionId": 30918,
   "isGpuEnabled": false,
   "isInternetEnabled": true,
   "language": "python",
   "sourceType": "notebook"
  },
  "kernelspec": {
   "display_name": "Python 3",
   "language": "python",
   "name": "python3"
  },
  "language_info": {
   "codemirror_mode": {
    "name": "ipython",
    "version": 3
   },
   "file_extension": ".py",
   "mimetype": "text/x-python",
   "name": "python",
   "nbconvert_exporter": "python",
   "pygments_lexer": "ipython3",
   "version": "3.8.10"
  }
 },
 "nbformat": 4,
 "nbformat_minor": 4
}
